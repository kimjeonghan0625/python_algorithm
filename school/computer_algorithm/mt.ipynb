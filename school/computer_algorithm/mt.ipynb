{
 "cells": [
  {
   "cell_type": "code",
   "execution_count": 1,
   "metadata": {},
   "outputs": [
    {
     "data": {
      "text/plain": [
       "2"
      ]
     },
     "execution_count": 1,
     "metadata": {},
     "output_type": "execute_result"
    }
   ],
   "source": [
    "def seq_search(a: list[int], t: int):\n",
    "    location = 0\n",
    "    while location < len(a) and a[location] != t:\n",
    "        location += 1\n",
    "    if location == len(a) - 1:\n",
    "        location = -1\n",
    "    return location\n",
    "\n",
    "seq_search([1,2,3,4,5],3)"
   ]
  },
  {
   "cell_type": "code",
   "execution_count": null,
   "metadata": {},
   "outputs": [],
   "source": [
    "def matrix_mult(arr1, arr2):\n",
    "    answer = [[0]*len(arr2[0]) for _ in range(len(arr1))]\n",
    "    for i in range(len(arr1)):\n",
    "        lists = []\n",
    "        for j in range(len(arr2[0])):\n",
    "            for k in range(len(arr1[0])):\n",
    "                answer[i][j] += arr1[i][k] * arr2[k][j]\n",
    "    return answer\n",
    "\n",
    "def my_matrix_mult()"
   ]
  }
 ],
 "metadata": {
  "kernelspec": {
   "display_name": "Python 3",
   "language": "python",
   "name": "python3"
  },
  "language_info": {
   "codemirror_mode": {
    "name": "ipython",
    "version": 3
   },
   "file_extension": ".py",
   "mimetype": "text/x-python",
   "name": "python",
   "nbconvert_exporter": "python",
   "pygments_lexer": "ipython3",
   "version": "3.10.12"
  }
 },
 "nbformat": 4,
 "nbformat_minor": 2
}
